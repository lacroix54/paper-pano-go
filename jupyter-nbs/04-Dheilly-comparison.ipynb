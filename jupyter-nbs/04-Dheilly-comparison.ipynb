{
 "cells": [
  {
   "cell_type": "markdown",
   "metadata": {},
   "source": [
    "Going to comparing Proteome to Dheilly seqs so direct comparisons can be made to this paper."
   ]
  },
  {
   "cell_type": "markdown",
   "metadata": {},
   "source": [
    "<img src=\"http://eagle.fish.washington.edu/cnidarian/skitch/Crassostrea_gigas_male_gonad_transcriptome_data_comparison_1BE3AD5C.png\" alt=\"Crassostrea_gigas_male_gonad_transcriptome_data_comparison_1BE3AD5C.png\"/>"
   ]
  },
  {
   "cell_type": "code",
   "execution_count": 1,
   "metadata": {
    "collapsed": false
   },
   "outputs": [
    {
     "name": "stdout",
     "output_type": "stream",
     "text": [
      "\u001b[31mGeoduck-transcriptome-v2.fasta\u001b[m\u001b[m\r\n",
      "Geoduck-transcriptome-v2.fasta.zip\r\n",
      "Geoduck-transcriptome-v2.transdecoder.bed\r\n",
      "Geoduck-transcriptome-v2.transdecoder.cds\r\n",
      "Geoduck-transcriptome-v2.transdecoder.gff3\r\n",
      "Geoduck-transcriptome-v2.transdecoder.pep\r\n",
      "Geoduck-tranv2-blastx_sprot.tab\r\n",
      "Geoduck-tranv2_blastx_sprot-old.tab\r\n"
     ]
    }
   ],
   "source": [
    "!ls ../data-results/"
   ]
  },
  {
   "cell_type": "code",
   "execution_count": 2,
   "metadata": {
    "collapsed": false
   },
   "outputs": [
    {
     "name": "stdout",
     "output_type": "stream",
     "text": [
      "  % Total    % Received % Xferd  Average Speed   Time    Time     Time  Current\n",
      "                                 Dload  Upload   Total   Spent    Left  Speed\n",
      "100 23.6M  100 23.6M    0     0  2894k      0  0:00:08  0:00:08 --:--:-- 5037k\n"
     ]
    }
   ],
   "source": [
    "!curl http://files.figshare.com/1471531/Fastafile_Microarray \\\n",
    "-o analyses/Dheilly-Fastafile_Microarray.fa  "
   ]
  },
  {
   "cell_type": "code",
   "execution_count": 6,
   "metadata": {
    "collapsed": false
   },
   "outputs": [
    {
     "name": "stdout",
     "output_type": "stream",
     "text": [
      "CGGCAGAACCAGTGGCTGGCCAAAAGGAACAAATCCAGTGTCTTATGCAGCTAAATATGGCATAACGAACCCTTCACCTACGTTAGATCGCCCGATCAATCTGTACCCATTAACAAATTACACATTTGGAACCAAAGAGCCATTGTATGAGAAGGATAGCTCAGTCCCAGCACGGTTTCAGCGTATGCGAGATGAGTTTGAGAAGATTGGAATGAGGCGATCTGTTGAGGGAGTGTTAATTGTACACGAGCACGGACTTCCCCACGTTCTCCTTCTACAACTAGGGACCACATTTTTCAAATTACCTGGGGGAGAGTTGAATTCAGGCGAGGATCAAGTAGAAGGCTTGAAAAGATTATTAACAGAGACCCTGGGAAGACAAGATGGTGGGACTATGGAGTGGGTAGTGGAGGATACTATAGGGAACTGGTGGAGACCAAACTTTGAACCCCCACAGTACCCTTACATCCCAGCACACATCACAAAACCCAAGGAACACAAAAGACTTTTCCTTGTACAGCTACCAGAAAAGGCATTGTTTGCTGTTCCTAGAAATTATAAACTTGTGGCCGCCCCCTTGTTTGAACTATATGACAACAGTGCAGGATATGGGCCAATCATCTCAAGTTTACCTCAAGCTCTAAGTCGGTTCAACTTCATATACAATTGAGTGGGAAGATGCGAAGAACTGTACAACAATATTATTGTGACTTTTTTTATTACTCTGTCTGTAATACTGTCAGCTGTGGCTTGTCAACTTTGTATCACGATCATATCATCATATAATTATATGATTCATCATGGTCGAAAATGTCATTGAGGAATAAAAAAAAATTCAAACAG\r",
      "\r\n",
      ">BQ426856.p.cg.6\r\n",
      "CCTGAAACAACCAAGCAATTTTAGAGATCTGTCAAAACATATAGGTGCTCTGAACCCCACAAGAAGAGAATTTTTTCAGGAGCGTTATAACTCATGGGAGCATGATCAAATCCCACCATTCCATTATGGCACTCATTATTCAACGGCAGCTTTTACTCTGAACTGGCTCATAAGAGTGGAGCCATTTTCTACAATGTTTTTGAACCTTCAAGGTGGCAAATTTGACCACGCCAACAGAACCTTCAGCTCTATAGCTCAGTCTTGGAAGAATTGTCAGAGAGACACTTCTGATGTGAAGGAGTTGATCCCTGAGTTCTACTTTCTCCCAGAAATGTTCATCAATCAAAATAGGTACAAGTTTGGAAAGCAAGAAGATGGCGGAGAAGTTGCTGATGTGGAGATGCCACCATGGGCCAAGAACCCTGATGATTTTGTCCGAATAAACAGAATGGCCTTAGAATCTGAATTTGTGTCTTGTCAACTTCATCATTGGATTGATCTGATATTTGGCTACAAACAAAGAGGTCCAGAAGCAGTGAGGTCCACCAATGTCTTCTATTACCTGACCTACGAAGGCAGTGTGAACCTGGAGAGTATGACTGACCTAGTCATGAAGGAGGCCATAGAGAACCAGATTAAGAGTTTTGGACAGACCCCCACCCAGCTCCTGGCTGAGCCCCACCCTCCCCGCAGTTCTCTGATGCACTTGACTCCGATGATGTTTTCGACAGTCCAGGATGATGTGTGTATGATCATGAAGTTCCTGTCCAACTCCCCGGTCATTCACATCGCCGCCAACACCCACCCTGCCGTTCCCAACCCCGCGGTCACAACCATCACATGTAACCACAACTTTGCTGTCAACAAATGGAACACCACATACCAACTAACCAACACTGGCCTTCAGAGACGATCCCTAGGGGACAACTTTGACGAGAGAATAAAACCTACCCACCAGAGCTTTGTCACTTCAGCAGACAACCGCTTCATCTTTGCCTGTGGATTCTGGGACAAGAGCTTCAGAATATTCAGTTCCGAGTCTGGGAAGATCCTTCAGGTGGTGAATGGCCACTTTGATGTGGTGACCTGTATCACGCGCTCTGAGTGTAACCTGAATCAGGACTGTTACATTGTGACCGGGTCCAAGGACTGTACCGCCATGGTCTGGATGTTCACCTCAAGGAACCAGGCCATCATAGGCGACAATGGAAGTC\r",
      "\r\n"
     ]
    }
   ],
   "source": [
    "!tail -3 analyses/Dheilly-Fastafile_Microarray.fa "
   ]
  },
  {
   "cell_type": "code",
   "execution_count": 9,
   "metadata": {
    "collapsed": false
   },
   "outputs": [
    {
     "name": "stdout",
     "output_type": "stream",
     "text": [
      "\n",
      "\n",
      "Building a new DB, current time: 10/30/2015 06:56:39\n",
      "New DB name:   analyses/Dheilly-Microarray\n",
      "New DB title:  analyses/Dheilly-Fastafile_Microarray.fa\n",
      "Sequence type: Nucleotide\n",
      "Keep Linkouts: T\n",
      "Keep MBits: T\n",
      "Maximum file size: 1000000000B\n",
      "Adding sequences from FASTA; added 31919 sequences in 0.997076 seconds.\n"
     ]
    }
   ],
   "source": [
    "!makeblastdb \\\n",
    "-dbtype nucl \\\n",
    "-in analyses/Dheilly-Fastafile_Microarray.fa \\\n",
    "-out analyses/Dheilly-Microarray"
   ]
  },
  {
   "cell_type": "code",
   "execution_count": 10,
   "metadata": {
    "collapsed": false
   },
   "outputs": [
    {
     "name": "stdout",
     "output_type": "stream",
     "text": [
      "Warning: lcl|Query_31162 cds.comp151457_c0_seq1|m.54411 comp151457_c0_seq1|g.54411  ORF comp151457_c0_seq1|g.54411 comp151457_c0_seq1|m.54411 type:internal len:112 (-) comp151457_c0_seq1:1-333(-): Warning: Could not calculate ungapped Karlin-Altschul parameters due to an invalid query sequence or its translation. Please verify the query sequence(s) and/or filtering options \n",
      "Warning: lcl|Query_31169 cds.comp151536_c0_seq1|m.54418 comp151536_c0_seq1|g.54418  ORF comp151536_c0_seq1|g.54418 comp151536_c0_seq1|m.54418 type:internal len:104 (+) comp151536_c0_seq1:1-309(+): Warning: Could not calculate ungapped Karlin-Altschul parameters due to an invalid query sequence or its translation. Please verify the query sequence(s) and/or filtering options \n",
      "Warning: lcl|Query_32410 cds.comp39296_c0_seq1|m.1422 comp39296_c0_seq1|g.1422  ORF comp39296_c0_seq1|g.1422 comp39296_c0_seq1|m.1422 type:internal len:116 (+) comp39296_c0_seq1:1-345(+): Warning: Could not calculate ungapped Karlin-Altschul parameters due to an invalid query sequence or its translation. Please verify the query sequence(s) and/or filtering options \n",
      "Warning: lcl|Query_32628 cds.comp45262_c0_seq1|m.1703 comp45262_c0_seq1|g.1703  ORF comp45262_c0_seq1|g.1703 comp45262_c0_seq1|m.1703 type:internal len:106 (-) comp45262_c0_seq1:1-315(-): Warning: Could not calculate ungapped Karlin-Altschul parameters due to an invalid query sequence or its translation. Please verify the query sequence(s) and/or filtering options \n"
     ]
    }
   ],
   "source": [
    "!tblastn \\\n",
    "-query ../data-results/Geoduck-transcriptome-v2.transdecoder.pep \\\n",
    "-db analyses/Dheilly-Microarray \\\n",
    "-num_threads 4 \\\n",
    "-evalue 1e-60 \\\n",
    "-max_target_seqs 1 \\\n",
    "-max_hsps 1 \\\n",
    "-outfmt 6 \\\n",
    "-out analyses/Geo-pep_tblastn_Dheilly.out"
   ]
  },
  {
   "cell_type": "code",
   "execution_count": 14,
   "metadata": {
    "collapsed": false
   },
   "outputs": [
    {
     "name": "stdout",
     "output_type": "stream",
     "text": [
      "\n",
      "\n",
      "Building a new DB, current time: 10/30/2015 07:31:30\n",
      "New DB name:   analyses/Geoduck-v2-protein\n",
      "New DB title:  ../data-results/Geoduck-transcriptome-v2.transdecoder.pep\n",
      "Sequence type: Protein\n",
      "Keep Linkouts: T\n",
      "Keep MBits: T\n",
      "Maximum file size: 1000000000B\n",
      "Adding sequences from FASTA; added 35951 sequences in 1.0729 seconds.\n"
     ]
    }
   ],
   "source": [
    "!makeblastdb \\\n",
    "-dbtype prot \\\n",
    "-in ../data-results/Geoduck-transcriptome-v2.transdecoder.pep \\\n",
    "-out analyses/Geoduck-v2-protein"
   ]
  },
  {
   "cell_type": "code",
   "execution_count": 18,
   "metadata": {
    "collapsed": false
   },
   "outputs": [
    {
     "ename": "SyntaxError",
     "evalue": "invalid syntax (<ipython-input-18-5dd7abd89d62>, line 2)",
     "output_type": "error",
     "traceback": [
      "\u001b[0;36m  File \u001b[0;32m\"<ipython-input-18-5dd7abd89d62>\"\u001b[0;36m, line \u001b[0;32m2\u001b[0m\n\u001b[0;31m    -query analyses/Dheilly-Fastafile_Microarray.fa -db analyses/Geoduck-v2-protein -num_threads 4 -evalue 1e-60 -max_target_seqs 1 -max_hsps 1 -outfmt 6 -out analyses/Dheilly_blastx_Geoduck.out\u001b[0m\n\u001b[0m                  ^\u001b[0m\n\u001b[0;31mSyntaxError\u001b[0m\u001b[0;31m:\u001b[0m invalid syntax\n"
     ]
    }
   ],
   "source": [
    "!blastx\n",
    "-query analyses/Dheilly-Fastafile_Microarray.fa \\\n",
    "-db analyses/Geoduck-v2-protein \\\n",
    "-num_threads 4 \\\n",
    "-evalue 1e-60 \\\n",
    "-max_target_seqs 1 \\\n",
    "-max_hsps 1 \\\n",
    "-outfmt 6 \\\n",
    "-out analyses/Dheilly_blastx_Geoduck.out"
   ]
  },
  {
   "cell_type": "code",
   "execution_count": null,
   "metadata": {
    "collapsed": true
   },
   "outputs": [],
   "source": []
  }
 ],
 "metadata": {
  "kernelspec": {
   "display_name": "Python 2",
   "language": "python",
   "name": "python2"
  },
  "language_info": {
   "codemirror_mode": {
    "name": "ipython",
    "version": 2
   },
   "file_extension": ".py",
   "mimetype": "text/x-python",
   "name": "python",
   "nbconvert_exporter": "python",
   "pygments_lexer": "ipython2",
   "version": "2.7.10"
  }
 },
 "nbformat": 4,
 "nbformat_minor": 0
}

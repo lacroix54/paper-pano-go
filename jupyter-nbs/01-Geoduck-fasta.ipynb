{
 "cells": [
  {
   "cell_type": "markdown",
   "metadata": {
    "button": false,
    "collapsed": false,
    "deletable": true,
    "new_sheet": false,
    "run_control": {
     "read_only": false
    }
   },
   "source": [
    "# Examining Fasta from Assembly"
   ]
  },
  {
   "cell_type": "markdown",
   "metadata": {
    "button": false,
    "deletable": true,
    "new_sheet": false,
    "run_control": {
     "read_only": false
    }
   },
   "source": [
    "Note that the fasta file is not within the repository as it is greater than 100MB. A zipped version is. `Geoduck-transcriptome-v2.fasta.zip`"
   ]
  },
  {
   "cell_type": "code",
   "execution_count": 5,
   "metadata": {
    "button": false,
    "collapsed": false,
    "deletable": true,
    "new_sheet": false,
    "run_control": {
     "read_only": false
    }
   },
   "outputs": [
    {
     "name": "stdout",
     "output_type": "stream",
     "text": [
      "\u001b[31mGeoduck-transcriptome-v2.fasta\u001b[m\u001b[m*     Geoduck-transcriptome-v2.fasta.zip\r\n"
     ]
    }
   ],
   "source": [
    "ls ../data-results/"
   ]
  },
  {
   "cell_type": "code",
   "execution_count": 2,
   "metadata": {
    "button": false,
    "collapsed": false,
    "deletable": true,
    "new_sheet": false,
    "run_control": {
     "read_only": false
    }
   },
   "outputs": [
    {
     "name": "stdout",
     "output_type": "stream",
     "text": [
      ">comp7_c0_seq1 len=210 path=[5082:0-45 293:46-209]\r\n",
      "TTAACCAAGGTGTGACGCCGACGCAAGGGTGAGTAGAATAGCTCTGTTTATTATCCGAAT\r\n",
      "AGTCGAGCTAAAAACACAAAGAATAAAGGTTTAACAGTTCTATCTGAAATATATATTTGG\r\n",
      "ATATCTATTGGTAAGGATACGTTTTATATTAAAAACAAACAATTTATAAAGCGCTCTCGC\r\n",
      "ACCTTGTTTTTGCATTATGAGCATATACAT\r\n",
      ">comp30_c0_seq1 len=201 path=[6331:0-200]\r\n",
      "AAGAAAATTGATTTGAAATTGACTCTGCTTGAATAGAAAAAAATGTTTTGTTCTTTTTTT\r\n",
      "CGAAGTGTAAATTGTAAATTACTTTATTAAAAAATTCATAGTTTCCGGGCAAGTTATTTT\r\n",
      "TAATATATTGTAAATGTTGTCATTCAGAGGTTTGTTACGAATATATTGTTTGACAGACAT\r\n",
      "GCTACTGTTGTACTACTATTG\r\n"
     ]
    }
   ],
   "source": [
    "!head ../data-results/Geoduck-transcriptome-v2.fasta"
   ]
  },
  {
   "cell_type": "code",
   "execution_count": 3,
   "metadata": {
    "button": false,
    "collapsed": false,
    "deletable": true,
    "new_sheet": false,
    "run_control": {
     "read_only": false
    }
   },
   "outputs": [
    {
     "name": "stdout",
     "output_type": "stream",
     "text": [
      "154407\r\n"
     ]
    }
   ],
   "source": [
    "!fgrep -c \">\" ../data-results/Geoduck-transcriptome-v2.fasta"
   ]
  },
  {
   "cell_type": "code",
   "execution_count": 13,
   "metadata": {
    "collapsed": false
   },
   "outputs": [
    {
     "name": "stdout",
     "output_type": "stream",
     "text": [
      "154480\r\n"
     ]
    }
   ],
   "source": [
    "!fgrep -c \">\" /Volumes/web/cnidarian/Geo-trinity/trinity_out_dir/Trinity.fasta"
   ]
  },
  {
   "cell_type": "code",
   "execution_count": 14,
   "metadata": {
    "collapsed": false
   },
   "outputs": [
    {
     "name": "stdout",
     "output_type": "stream",
     "text": [
      "154407\r\n"
     ]
    }
   ],
   "source": [
    "!fgrep -c \">\" /Volumes/web/cnidarian/Geo-Trinity2/trinity_out_dir/Trinity.fasta"
   ]
  },
  {
   "cell_type": "code",
   "execution_count": 4,
   "metadata": {
    "button": false,
    "collapsed": false,
    "deletable": true,
    "new_sheet": false,
    "run_control": {
     "read_only": false
    }
   },
   "outputs": [
    {
     "name": "stdout",
     "output_type": "stream",
     "text": [
      "\r\n",
      "0:999 \t127881\r\n",
      "1000:1999 \t18040\r\n",
      "2000:2999 \t5312\r\n",
      "3000:3999 \t1808\r\n",
      "4000:4999 \t773\r\n",
      "5000:5999 \t284\r\n",
      "6000:6999 \t139\r\n",
      "7000:7999 \t86\r\n",
      "8000:8999 \t21\r\n",
      "9000:9999 \t33\r\n",
      "10000:10999 \t7\r\n",
      "11000:11999 \t6\r\n",
      "12000:12999 \t3\r\n",
      "13000:13999 \t4\r\n",
      "14000:14999 \t4\r\n",
      "15000:15999 \t3\r\n",
      "16000:16999 \t0\r\n",
      "17000:17999 \t2\r\n",
      "18000:18999 \t1\r\n",
      "\r\n",
      "Total length of sequence:\t101836734 bp\r\n",
      "Total number of sequences:\t154407\r\n",
      "N25 stats:\t\t\t25% of total sequence length is contained in the 8036 sequences >= 2055 bp\r\n",
      "N50 stats:\t\t\t50% of total sequence length is contained in the 26074 sequences >= 1014 bp\r\n",
      "N75 stats:\t\t\t75% of total sequence length is contained in the 64502 sequences >= 445 bp\r\n",
      "Total GC count:\t\t\t37647852 bp\r\n",
      "GC %:\t\t\t\t36.97 %\r\n",
      "\r\n"
     ]
    }
   ],
   "source": [
    "!perl ../scripts/count_fasta.pl \\\n",
    "-i 1000 \\\n",
    "../data-results/Geoduck-transcriptome-v2.fasta"
   ]
  },
  {
   "cell_type": "markdown",
   "metadata": {
    "button": false,
    "collapsed": true,
    "deletable": true,
    "new_sheet": false,
    "run_control": {
     "read_only": false
    }
   },
   "source": [
    "# Blast"
   ]
  },
  {
   "cell_type": "code",
   "execution_count": 8,
   "metadata": {
    "button": false,
    "collapsed": false,
    "deletable": true,
    "new_sheet": false,
    "run_control": {
     "read_only": false
    }
   },
   "outputs": [
    {
     "name": "stdout",
     "output_type": "stream",
     "text": [
      "   22933  321062 1883878 ../data-results/Geoduck-tranv2_blastx_sprot.tab\r\n"
     ]
    }
   ],
   "source": [
    "#output of one blast (will repeat to confirm completeness)\n",
    "!wc -l ../data-results/Geoduck-tranv2_blastx_sprot.tab"
   ]
  },
  {
   "cell_type": "code",
   "execution_count": 9,
   "metadata": {
    "collapsed": false
   },
   "outputs": [
    {
     "name": "stdout",
     "output_type": "stream",
     "text": [
      "comp95_c0_seq1\tsp\tQ8K358\tPIGU_MOUSE\t67.53\t77\t25\t0\t231\t1\t258\t334\t7e-32\t  119\r\n",
      "comp146_c0_seq1\tsp\tP37137\tLHX5_XENLA\t79.31\t58\t12\t0\t175\t2\t4\t61\t4e-31\t  116\r\n",
      "comp195_c0_seq1\tsp\tQ8HXQ0\tSODC_MACMU\t54.84\t62\t28\t0\t188\t3\t80\t141\t1e-14\t68.9\r\n",
      "comp296_c0_seq1\tsp\tP59966\tDNAB_MYCBO\t67.16\t67\t22\t0\t201\t1\t72\t138\t1e-11\t63.2\r\n",
      "comp434_c0_seq1\tsp\tQ07954\tLRP1_HUMAN\t38.46\t78\t44\t3\t34\t267\t4094\t4167\t8e-10\t59.3\r\n",
      "comp455_c1_seq1\tsp\tQ9Y2K2\tSIK3_HUMAN\t84.85\t66\t10\t0\t200\t3\t65\t130\t1e-32\t  124\r\n",
      "comp943_c0_seq1\tsp\tP15586\tGNS_HUMAN\t41.89\t74\t39\t3\t235\t17\t385\t455\t3e-08\t53.5\r\n",
      "comp945_c0_seq1\tsp\tQ14517\tFAT1_HUMAN\t49.09\t55\t25\t2\t51\t212\t4017\t4069\t2e-10\t60.8\r\n",
      "comp1059_c0_seq1\tsp\tQ6A7L9\tSYP_PROAC\t100.00\t76\t0\t0\t228\t1\t158\t233\t5e-45\t  156\r\n",
      "comp1266_c0_seq1\tsp\tQ60806\tPLK3_MOUSE\t55.10\t49\t22\t0\t3\t149\t98\t146\t2e-14\t70.9\r\n"
     ]
    }
   ],
   "source": [
    "!head ../data-results/Geoduck-tranv2_blastx_sprot.tab"
   ]
  },
  {
   "cell_type": "code",
   "execution_count": 9,
   "metadata": {
    "button": false,
    "collapsed": false,
    "deletable": true,
    "new_sheet": false,
    "run_control": {
     "read_only": false
    }
   },
   "outputs": [
    {
     "name": "stdout",
     "output_type": "stream",
     "text": [
      "   18943 /Users/sr320/Dropbox/hummingbird-ipython-nbs/data/Geoduck-v2-b/blastx_sprot.sql\r\n"
     ]
    }
   ],
   "source": [
    "!wc -l /Users/sr320/Dropbox/hummingbird-ipython-nbs/data/Geoduck-v2-b/blastx_sprot.sql"
   ]
  },
  {
   "cell_type": "markdown",
   "metadata": {
    "button": false,
    "deletable": true,
    "new_sheet": false,
    "run_control": {
     "read_only": false
    }
   },
   "source": [
    "Add segmentation faults on second blast..\n",
    "![sf](http://www.evernote.com/l/AAqWIUNObqNMqoc2uhtLVizkw1m7PDL4Wz0B/image.png)"
   ]
  },
  {
   "cell_type": "code",
   "execution_count": 2,
   "metadata": {
    "button": false,
    "collapsed": false,
    "deletable": true,
    "new_sheet": false,
    "run_control": {
     "read_only": false
    }
   },
   "outputs": [
    {
     "name": "stdout",
     "output_type": "stream",
     "text": [
      "   23165 /Users/sr320/Dropbox/hummingbird-ipython-nbs/data/geoduck-v2-c/blastx_sprot.sql\r\n"
     ]
    }
   ],
   "source": [
    "!wc -l /Users/sr320/Dropbox/hummingbird-ipython-nbs/data/geoduck-v2-c/blastx_sprot.sql"
   ]
  },
  {
   "cell_type": "code",
   "execution_count": 3,
   "metadata": {
    "collapsed": false
   },
   "outputs": [
    {
     "name": "stdout",
     "output_type": "stream",
     "text": [
      "comp95_c0_seq1\tsp\tQ8K358\tPIGU_MOUSE\t67.53\t77\t25\t0\t231\t1\t258\t334\t7e-32\t  119\r\n",
      "comp146_c0_seq1\tsp\tP37137\tLHX5_XENLA\t79.31\t58\t12\t0\t175\t2\t4\t61\t4e-31\t  116\r\n",
      "comp195_c0_seq1\tsp\tQ8HXQ0\tSODC_MACMU\t54.84\t62\t28\t0\t188\t3\t80\t141\t1e-14\t68.9\r\n",
      "comp296_c0_seq1\tsp\tP59966\tDNAB_MYCBO\t67.16\t67\t22\t0\t201\t1\t72\t138\t1e-11\t63.2\r\n",
      "comp434_c0_seq1\tsp\tQ07954\tLRP1_HUMAN\t38.46\t78\t44\t3\t34\t267\t4094\t4167\t8e-10\t59.3\r\n",
      "comp455_c1_seq1\tsp\tQ9Y2K2\tSIK3_HUMAN\t84.85\t66\t10\t0\t200\t3\t65\t130\t1e-32\t  124\r\n",
      "comp943_c0_seq1\tsp\tP15586\tGNS_HUMAN\t41.89\t74\t39\t3\t235\t17\t385\t455\t3e-08\t53.5\r\n",
      "comp945_c0_seq1\tsp\tQ14517\tFAT1_HUMAN\t49.09\t55\t25\t2\t51\t212\t4017\t4069\t2e-10\t60.8\r\n",
      "comp1059_c0_seq1\tsp\tQ6A7L9\tSYP_PROAC\t100.00\t76\t0\t0\t228\t1\t158\t233\t5e-45\t  156\r\n",
      "comp1266_c0_seq1\tsp\tQ60806\tPLK3_MOUSE\t55.10\t49\t22\t0\t3\t149\t98\t146\t2e-14\t70.9\r\n"
     ]
    }
   ],
   "source": [
    "!head /Users/sr320/Dropbox/hummingbird-ipython-nbs/data/geoduck-v2-c/blastx_sprot.sql"
   ]
  },
  {
   "cell_type": "code",
   "execution_count": 8,
   "metadata": {
    "collapsed": false,
    "scrolled": true
   },
   "outputs": [
    {
     "name": "stdout",
     "output_type": "stream",
     "text": [
      ">comp7_c0_seq1 len=210 path=[5082:0-45 293:46-209]\r\n",
      "TTAACCAAGGTGTGACGCCGACGCAAGGGTGAGTAGAATAGCTCTGTTTATTATCCGAAT\r\n",
      "AGTCGAGCTAAAAACACAAAGAATAAAGGTTTAACAGTTCTATCTGAAATATATATTTGG\r\n",
      "ATATCTATTGGTAAGGATACGTTTTATATTAAAAACAAACAATTTATAAAGCGCTCTCGC\r\n",
      "ACCTTGTTTTTGCATTATGAGCATATACAT\r\n",
      ">comp30_c0_seq1 len=201 path=[6331:0-200]\r\n",
      "AAGAAAATTGATTTGAAATTGACTCTGCTTGAATAGAAAAAAATGTTTTGTTCTTTTTTT\r\n",
      "CGAAGTGTAAATTGTAAATTACTTTATTAAAAAATTCATAGTTTCCGGGCAAGTTATTTT\r\n",
      "TAATATATTGTAAATGTTGTCATTCAGAGGTTTGTTACGAATATATTGTTTGACAGACAT\r\n",
      "GCTACTGTTGTACTACTATTG\r\n",
      ">comp35_c0_seq1 len=209 path=[12565:0-208]\r\n",
      "GAAAATAAAAGTATGATGGTCACACAATGTTATCCGTTATCCAATCAAAATGTCTAATTG\r\n",
      "GAAAGAAAAACATCATTTTAACTGTAAATTTTCTATTGAACTGAAGTAGTGGGGATATAT\r\n",
      "CTATCTACAAATTATGAAGATATGCGATTGAACATCTTTGCATAGCAAGAGAAATATCAG\r\n",
      "ACAGCAAACAGTAAATAGATGACGTGGAA\r\n",
      ">comp36_c0_seq1 len=202 path=[13423:0-27 13870:28-114 13870:115-201]\r\n",
      "GGTTACAAAATTACACACTTTCATCACTTTTGTTACAATATTGCAACATCTCATTCACCT\r\n",
      "TGGTTACAGTATTGGAATATCACCATGGTTACAATATTACAACATCTTCATCATGTTTGT\r\n",
      "TACAATATTGCAACATCTCATTCACCTTGGTTACAGTATTGGAATATCACCATGGTTACA\r\n",
      "ATATTACAACATCTTCATCATG\r\n",
      ">comp49_c0_seq1 len=263 path=[18312:0-262]\r\n",
      "AGTGCTGGAGGGTATAATCTTATAAATGGGACCGACAGACTAAAATAAACTGATGTGGTT\r\n",
      "AAATGGAATACCAACTGCCTTTCAGGACGTACCACAAAAACACACAATACGACTCCGCTC\r\n",
      "GATCCACGGAGGTTCTTAGCATTCACATTAGTGTGAGCTATTGACTGCACTACTGAAATC\r\n",
      "TCTGGCCAGAAGAATGTTCAAACCGTAAAAATGTAAATTATATGAAATAAAAAAAAAAAG\r\n",
      "GGTTTTCATTTAATATATTATTT\r\n",
      ">comp59_c0_seq1 len=359 path=[23287:0-358]\r\n",
      "ACTGGATCCACATTTATTTACCAGAATGTAGCAAATAAATTACTTAATTTGTAGTAGCAG\r\n",
      "TAGCTTAAGTTAACGGATCAGATTTACATAAATCCTTCAGCAGTTAAGATTCTTGTGTTG\r\n",
      "TTGGAACCGTTTGTAGTCATTGCAATATGCATCTCTCTTGCTAGGATAGATCGAGAAGAC\r\n",
      "ATTCGAAAATGCCATTCAAGTCCGTTTTACAAAAAGGAAAATTTCCTGCAGTGTCCCATC\r\n",
      "TTGTTGTGAAATGTTTAGGACAGTAGATAAAATTACTGAACACATTAAGACTATTTATGG\r\n",
      "AACTAAAGTTGCAATACAAACATTAAATTTCAAAACTGATCAGGAATTTCTATGTTGGA\r\n",
      ">comp60_c0_seq1 len=319 path=[20887:0-318]\r\n",
      "GCCGTACATGATATATTTAATACACACATTTAAAATAGCACCAGATAAACTGTTGTGCAG\r\n",
      "ATCAATTTAAGCCATATCAGGTTATTTACCCAACAGTTTGTTCCTATAAAATTCCTGAAT\r\n",
      "GAGTTTGGTTTAGATCCAACATGCAAAATGCCATGTTAAGACAGTTCACAACAAAAAAAA\r\n",
      "TCAAGAGGACCAAATGGGCTTAAGTCGCTCACCTAATCACAACACAAATTATGAATTGAT\r\n",
      "ACCTATGAAGAACTTATTAAAGGAAACTTATAGATGAAAAAAAAGAGAGAATTAGCTGTG\r\n",
      "AAGAGAAACTGTAACTAAT\r\n",
      ">comp65_c0_seq1 len=275 path=[24468:0-274]\r\n",
      "GTTAAATCTAATTTGCACTCTTTAATAGCGATTATAGACATTTCAATGAAACGTTTATAG\r\n",
      "AATTTCATATTGCTTTTTACTGTGAGATGCAACAGAGGAAGAAACTGTGTTTTTTTTGTC\r\n",
      "TTTATGTTCCTACTTTTGGAAGTTAAAAAACAATTGTTTTGTCATAAATCTGCCTAGTTT\r\n",
      "TTACCCCATCAGAACATTCCTGTCTCATTTTATATTTCTTCATCAAACTTTATGTGTATT\r\n",
      "GGAGTCATACATCATACATCAGAGGCACTAGCACT\r\n",
      ">comp66_c0_seq1 len=311 path=[28993:0-310]\r\n",
      "TAAGATATGACGCGGCTCATGTGATTGTCACATTACTAAATAACTTTGACAACGTAATTT\r\n",
      "AACTGAAACTTAAAAACATTGAAATAATCACCATGACAACGGTATTTCCTTTGTTTTGTA\r\n",
      "ACTAACGGACTGTAAAGAAGTGGAATGGAATTAGAGCAGATTGAACTTACTGAACAAGGT\r\n"
     ]
    }
   ],
   "source": [
    "!head -50 ../data-results/Geoduck-transcriptome-v2.fasta"
   ]
  },
  {
   "cell_type": "code",
   "execution_count": 13,
   "metadata": {
    "collapsed": false
   },
   "outputs": [
    {
     "name": "stdout",
     "output_type": "stream",
     "text": [
      "ATTCGTATACAATAAGGAATCTCATGTTTAGGCATCTTATATAATTGGGAATCTCACCTT\r\n",
      "TCATTCTCATACAATATGGAATCACATGTTTAGGCATCTTATAAAAATAAGGAATCTCAT\r\n",
      "GGTTAGGTATCTTGTACAATTTGGGAATCTCATGTTTAGGTATCTTGTACAATAGGGAAT\r\n",
      "CTCATGTTTAGGTATCTTGTACAATAGGGAATCTCATGTTTAGGTATCTTGTACAATA\r\n",
      ">comp93_c0_seq1 len=279 path=[37965:0-278]\r\n",
      "AGAGTCATTAAAAGACTGGTTAGGAAAAAACATCAGTTTCCTGGTTGCAACTTGTAGAAC\r\n",
      "AAATATTGTTAATGAAGAGACATTTAAAATAGCAAAAACCAGTTTGTCTAACCGGGTCAT\r\n",
      "TTGTTTGCACGAGAAAGAAATAAAGCTAACGAAGGAAGAAAAACGTAAATTGTTAAAAAT\r\n",
      "ATATGGTGGCAGTAGCCTTTCAGAAACAAAAATCCAGTCGATAATAGAAAACGATAGTTT\r\n",
      "AAATTTCCCTTTGAGCTGTCGTTTATTTAGTAAAAACGA\r\n",
      ">\u001b[01;31m\u001b[Kcomp95_c0_seq1\u001b[m\u001b[K len=236 path=[41153:0-99 35145:100-235]\r\n",
      "CACATCGGCGTAACTTGGATATGAATTAAATATGGAAATCAGTGAGACTAGGACATCGGC\r\n",
      "TAAAAATACTGGATGATCCCTTAATTTTACAGCCAGTGGAACAGTGTAAAGGAATGCATT\r\n",
      "TATCTGGAACACGCAGATGAAGAATGGTCTAAAGTGCTCAAACATTTCTGTGAAAAAATA\r\n",
      "CCAGAATACGCCCAGGTTTGGCGTCAAATCTGGTACCCCCAGTATAAACCCTGTTG\r\n",
      ">comp105_c0_seq1 len=212 path=[42547:0-211]\r\n",
      "TGCATTGTAATGATTTGAGTATTTGGGTACAGCAGGACAGATGCACTTTGATGTGTATAA\r\n",
      "AATTAATATTAAAAATGTGTTTTGATAAAAATTGACAGCCATCTGATGCATATCCTGGTC\r\n",
      "GGATTTTTTTTTTTATTTTATTGTTTTTTTTTTAATCACTTAGATCTAATAATTTAATCT\r\n",
      "TATATATCTATCCGTATGTTATTTAAAATTTA\r\n",
      ">comp115_c0_seq1 len=205 path=[48575:0-204]\r\n"
     ]
    }
   ],
   "source": [
    "!fgrep --color -A 10 -B 10 \"comp95_c0_seq1\" ../data-results/Geoduck-transcriptome-v2.fasta"
   ]
  },
  {
   "cell_type": "code",
   "execution_count": null,
   "metadata": {
    "collapsed": true
   },
   "outputs": [],
   "source": []
  }
 ],
 "metadata": {
  "kernelspec": {
   "display_name": "Python 3",
   "language": "python",
   "name": "python3"
  },
  "language_info": {
   "codemirror_mode": {
    "name": "ipython",
    "version": 3
   },
   "file_extension": ".py",
   "mimetype": "text/x-python",
   "name": "python",
   "nbconvert_exporter": "python",
   "pygments_lexer": "ipython3",
   "version": "3.5.0"
  }
 },
 "nbformat": 4,
 "nbformat_minor": 0
}

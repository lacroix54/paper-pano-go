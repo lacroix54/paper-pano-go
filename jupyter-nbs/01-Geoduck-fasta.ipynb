{
 "cells": [
  {
   "cell_type": "markdown",
   "metadata": {
    "button": false,
    "collapsed": false,
    "deletable": true,
    "new_sheet": false,
    "run_control": {
     "read_only": false
    }
   },
   "source": [
    "# Examining Fasta from Assembly"
   ]
  },
  {
   "cell_type": "markdown",
   "metadata": {
    "button": false,
    "deletable": true,
    "new_sheet": false,
    "run_control": {
     "read_only": false
    }
   },
   "source": [
    "Note that the fasta file is not within the repository as it is greater than 100MB. A zipped version is. `Geoduck-transcriptome-v2.fasta.zip`"
   ]
  },
  {
   "cell_type": "code",
   "execution_count": 5,
   "metadata": {
    "button": false,
    "collapsed": false,
    "deletable": true,
    "new_sheet": false,
    "run_control": {
     "read_only": false
    }
   },
   "outputs": [
    {
     "name": "stdout",
     "output_type": "stream",
     "text": [
      "\u001b[31mGeoduck-transcriptome-v2.fasta\u001b[m\u001b[m*     Geoduck-transcriptome-v2.fasta.zip\r\n"
     ]
    }
   ],
   "source": [
    "ls ../data-results/"
   ]
  },
  {
   "cell_type": "code",
   "execution_count": 2,
   "metadata": {
    "button": false,
    "collapsed": false,
    "deletable": true,
    "new_sheet": false,
    "run_control": {
     "read_only": false
    }
   },
   "outputs": [
    {
     "name": "stdout",
     "output_type": "stream",
     "text": [
      ">comp7_c0_seq1 len=210 path=[5082:0-45 293:46-209]\r\n",
      "TTAACCAAGGTGTGACGCCGACGCAAGGGTGAGTAGAATAGCTCTGTTTATTATCCGAAT\r\n",
      "AGTCGAGCTAAAAACACAAAGAATAAAGGTTTAACAGTTCTATCTGAAATATATATTTGG\r\n",
      "ATATCTATTGGTAAGGATACGTTTTATATTAAAAACAAACAATTTATAAAGCGCTCTCGC\r\n",
      "ACCTTGTTTTTGCATTATGAGCATATACAT\r\n",
      ">comp30_c0_seq1 len=201 path=[6331:0-200]\r\n",
      "AAGAAAATTGATTTGAAATTGACTCTGCTTGAATAGAAAAAAATGTTTTGTTCTTTTTTT\r\n",
      "CGAAGTGTAAATTGTAAATTACTTTATTAAAAAATTCATAGTTTCCGGGCAAGTTATTTT\r\n",
      "TAATATATTGTAAATGTTGTCATTCAGAGGTTTGTTACGAATATATTGTTTGACAGACAT\r\n",
      "GCTACTGTTGTACTACTATTG\r\n"
     ]
    }
   ],
   "source": [
    "!head ../data-results/Geoduck-transcriptome-v2.fasta"
   ]
  },
  {
   "cell_type": "code",
   "execution_count": 3,
   "metadata": {
    "button": false,
    "collapsed": false,
    "deletable": true,
    "new_sheet": false,
    "run_control": {
     "read_only": false
    }
   },
   "outputs": [
    {
     "name": "stdout",
     "output_type": "stream",
     "text": [
      "154407\r\n"
     ]
    }
   ],
   "source": [
    "!fgrep -c \">\" ../data-results/Geoduck-transcriptome-v2.fasta"
   ]
  },
  {
   "cell_type": "code",
   "execution_count": 13,
   "metadata": {
    "button": false,
    "collapsed": false,
    "deletable": true,
    "new_sheet": false,
    "run_control": {
     "read_only": false
    }
   },
   "outputs": [
    {
     "name": "stdout",
     "output_type": "stream",
     "text": [
      "154480\r\n"
     ]
    }
   ],
   "source": [
    "!fgrep -c \">\" /Volumes/web/cnidarian/Geo-trinity/trinity_out_dir/Trinity.fasta"
   ]
  },
  {
   "cell_type": "code",
   "execution_count": 14,
   "metadata": {
    "button": false,
    "collapsed": false,
    "deletable": true,
    "new_sheet": false,
    "run_control": {
     "read_only": false
    }
   },
   "outputs": [
    {
     "name": "stdout",
     "output_type": "stream",
     "text": [
      "154407\r\n"
     ]
    }
   ],
   "source": [
    "!fgrep -c \">\" /Volumes/web/cnidarian/Geo-Trinity2/trinity_out_dir/Trinity.fasta"
   ]
  },
  {
   "cell_type": "code",
   "execution_count": 4,
   "metadata": {
    "button": false,
    "collapsed": false,
    "deletable": true,
    "new_sheet": false,
    "run_control": {
     "read_only": false
    }
   },
   "outputs": [
    {
     "name": "stdout",
     "output_type": "stream",
     "text": [
      "\r\n",
      "0:999 \t127881\r\n",
      "1000:1999 \t18040\r\n",
      "2000:2999 \t5312\r\n",
      "3000:3999 \t1808\r\n",
      "4000:4999 \t773\r\n",
      "5000:5999 \t284\r\n",
      "6000:6999 \t139\r\n",
      "7000:7999 \t86\r\n",
      "8000:8999 \t21\r\n",
      "9000:9999 \t33\r\n",
      "10000:10999 \t7\r\n",
      "11000:11999 \t6\r\n",
      "12000:12999 \t3\r\n",
      "13000:13999 \t4\r\n",
      "14000:14999 \t4\r\n",
      "15000:15999 \t3\r\n",
      "16000:16999 \t0\r\n",
      "17000:17999 \t2\r\n",
      "18000:18999 \t1\r\n",
      "\r\n",
      "Total length of sequence:\t101836734 bp\r\n",
      "Total number of sequences:\t154407\r\n",
      "N25 stats:\t\t\t25% of total sequence length is contained in the 8036 sequences >= 2055 bp\r\n",
      "N50 stats:\t\t\t50% of total sequence length is contained in the 26074 sequences >= 1014 bp\r\n",
      "N75 stats:\t\t\t75% of total sequence length is contained in the 64502 sequences >= 445 bp\r\n",
      "Total GC count:\t\t\t37647852 bp\r\n",
      "GC %:\t\t\t\t36.97 %\r\n",
      "\r\n"
     ]
    }
   ],
   "source": [
    "!perl ../scripts/count_fasta.pl \\\n",
    "-i 1000 \\\n",
    "../data-results/Geoduck-transcriptome-v2.fasta"
   ]
  },
  {
   "cell_type": "markdown",
   "metadata": {
    "button": false,
    "collapsed": true,
    "deletable": true,
    "new_sheet": false,
    "run_control": {
     "read_only": false
    }
   },
   "source": [
    "# Blast"
   ]
  },
  {
   "cell_type": "code",
   "execution_count": 8,
   "metadata": {
    "button": false,
    "collapsed": false,
    "deletable": true,
    "new_sheet": false,
    "run_control": {
     "read_only": false
    }
   },
   "outputs": [
    {
     "name": "stdout",
     "output_type": "stream",
     "text": [
      "   22933  321062 1883878 ../data-results/Geoduck-tranv2_blastx_sprot.tab\r\n"
     ]
    }
   ],
   "source": [
    "#output of one blast (will repeat to confirm completeness)\n",
    "!wc -l ../data-results/Geoduck-tranv2_blastx_sprot.tab"
   ]
  },
  {
   "cell_type": "code",
   "execution_count": 9,
   "metadata": {
    "button": false,
    "collapsed": false,
    "deletable": true,
    "new_sheet": false,
    "run_control": {
     "read_only": false
    }
   },
   "outputs": [
    {
     "name": "stdout",
     "output_type": "stream",
     "text": [
      "   18943 /Users/sr320/Dropbox/hummingbird-ipython-nbs/data/Geoduck-v2-b/blastx_sprot.sql\r\n"
     ]
    }
   ],
   "source": [
    "!wc -l /Users/sr320/Dropbox/hummingbird-ipython-nbs/data/Geoduck-v2-b/blastx_sprot.sql"
   ]
  },
  {
   "cell_type": "markdown",
   "metadata": {
    "button": false,
    "deletable": true,
    "new_sheet": false,
    "run_control": {
     "read_only": false
    }
   },
   "source": [
    "Add segmentation faults on second blast..\n",
    "![sf](https://www.evernote.com/l/AAqWIUNObqNMqoc2uhtLVizkw1m7PDL4Wz0B/image.png)"
   ]
  },
  {
   "cell_type": "markdown",
   "metadata": {
    "button": false,
    "collapsed": true,
    "deletable": true,
    "new_sheet": false,
    "run_control": {
     "read_only": false
    }
   },
   "source": [
    "## REDONE with total of  23165 hits"
   ]
  },
  {
   "cell_type": "code",
   "execution_count": 25,
   "metadata": {
    "button": false,
    "collapsed": false,
    "deletable": true,
    "new_sheet": false,
    "run_control": {
     "read_only": false
    },
    "scrolled": true
   },
   "outputs": [
    {
     "name": "stdout",
     "output_type": "stream",
     "text": [
      "   23165 ../data-results/Geoduck-tranv2-blastx_sprot.tab\n",
      "Sun Nov  1 08:43:55 PST 2015\n"
     ]
    }
   ],
   "source": [
    "!wc -l ../data-results/Geoduck-tranv2-blastx_sprot.tab\n",
    "!date"
   ]
  },
  {
   "cell_type": "markdown",
   "metadata": {
    "button": false,
    "collapsed": true,
    "deletable": true,
    "new_sheet": false,
    "run_control": {
     "read_only": false
    }
   },
   "source": [
    "# Checking for non-Geoduck seqs (ie looking for bacteria)"
   ]
  },
  {
   "cell_type": "markdown",
   "metadata": {
    "run_control": {}
   },
   "source": [
    "```BASH\n",
    "%%bash\n",
    "for f in query.part*\n",
    "do\n",
    "blastn \\\n",
    "-query $f \\\n",
    "-db /Volumes/Data/blast_db/nt \\\n",
    "-evalue 1e-20 \\\n",
    "-max_target_seqs 1 \\\n",
    "-max_hsps 1 \\\n",
    "-outfmt \"6 std sskingdoms stitle staxids sscinames scomnames sblastnames\" \\\n",
    "-num_threads 16 \\\n",
    "-out blastout_\"$f\"_nt \\\n",
    "2> err_\"$f\"_nt\n",
    "done\n",
    "```"
   ]
  },
  {
   "cell_type": "code",
   "execution_count": 30,
   "metadata": {
    "collapsed": false,
    "run_control": {}
   },
   "outputs": [
    {
     "name": "stdout",
     "output_type": "stream",
     "text": [
      "    1862 analyses/Geoduck_v2_blastn-NT.out\r\n"
     ]
    }
   ],
   "source": [
    "!wc -l analyses/Geoduck_v2_blastn-NT.out"
   ]
  },
  {
   "cell_type": "code",
   "execution_count": 32,
   "metadata": {
    "collapsed": false,
    "run_control": {}
   },
   "outputs": [
    {
     "name": "stdout",
     "output_type": "stream",
     "text": [
      "comp159055_c0_seq1\tgi\t531997082\tgb\tKC876030.1\t\t100.00\t223\t0\t0\t1\t223\t23516\t23738\t5e-112\t  412\tEukaryota\tHomo sapiens clone LA13_165F6 sequence\t9606\tHomo sapiens\thuman\tprimates\r\n",
      "comp159196_c0_seq1\tgi\t459351451\temb\tHF558646.1\t\t89.70\t165\t15\t2\t1\t163\t91\t255\t8e-51\t  209\tEukaryota\tMalassezia sympodialis ATCC 42132 complete mitochondrial genome\t1230383\tMalassezia sympodialis ATCC 42132\tMalassezia sympodialis ATCC 42132\tbasidiomycetes\r\n",
      "comp159331_c0_seq1\tgi\t388571211\tgb\tJN184768.1\t\t94.25\t261\t15\t0\t1\t261\t227\t487\t4e-108\t  399\tEukaryota\tOstrea edulis nucleoside diphosphate kinase mRNA, complete cds\t37623\tOstrea edulis\tOstrea edulis\tbivalves\r\n"
     ]
    }
   ],
   "source": [
    "!tail -3 analyses/Geoduck_v2_blastn-NT.out"
   ]
  },
  {
   "cell_type": "code",
   "execution_count": null,
   "metadata": {
    "collapsed": true,
    "run_control": {}
   },
   "outputs": [],
   "source": []
  }
 ],
 "metadata": {
  "kernelspec": {
   "display_name": "Python 3",
   "language": "python",
   "name": "python3"
  },
  "language_info": {
   "codemirror_mode": {
    "name": "ipython",
    "version": 3
   },
   "file_extension": ".py",
   "mimetype": "text/x-python",
   "name": "python",
   "nbconvert_exporter": "python",
   "pygments_lexer": "ipython3",
   "version": "3.5.0"
  }
 },
 "nbformat": 4,
 "nbformat_minor": 0
}
